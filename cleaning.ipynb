{
 "cells": [
  {
   "cell_type": "code",
   "execution_count": 4,
   "metadata": {},
   "outputs": [],
   "source": [
    "import pandas as pd\n",
    "import numpy as np\n",
    "import json\n",
    "import re"
   ]
  },
  {
   "cell_type": "markdown",
   "metadata": {},
   "source": [
    "# Reading data"
   ]
  },
  {
   "cell_type": "code",
   "execution_count": 5,
   "metadata": {},
   "outputs": [],
   "source": [
    "bar_fixtures = pd.read_csv('data/raw/Barcelona - Fixture.csv')[['Date', 'Comp', 'Result', 'GF', 'GA', 'Opponent', 'Poss', 'Formation']]\n",
    "bar_passing = pd.read_csv('data/raw/Barcelona - Passing.csv')[['Date',  'Cmp', 'Att', 'Cmp%', 'TotDist', 'PrgDist', 'Cmp.1', 'Att.1', 'Cmp%.1', 'Cmp.2', 'Att.2', 'Cmp%.2', 'Cmp.3', 'Att.3', 'Cmp%.3' ]]\n",
    "ch_fixtures = pd.read_csv('data/raw/Chelsea - Fixture.csv')[['Date', 'Comp', 'Result', 'GF', 'GA', 'Opponent', 'Poss', 'Formation']]\n",
    "ch_passing = pd.read_csv('data/raw/Chelsea - Passing.csv')[['Date', 'Cmp', 'Att', 'Cmp%', 'TotDist', 'PrgDist', 'Cmp.1', 'Att.1', 'Cmp%.1', 'Cmp.2', 'Att.2', 'Cmp%.2', 'Cmp.3', 'Att.3', 'Cmp%.3' ]]"
   ]
  },
  {
   "cell_type": "code",
   "execution_count": 6,
   "metadata": {},
   "outputs": [
    {
     "data": {
      "text/plain": [
       "((60, 8), (60, 15))"
      ]
     },
     "execution_count": 6,
     "metadata": {},
     "output_type": "execute_result"
    }
   ],
   "source": [
    "bar_fixtures.shape, bar_passing.shape"
   ]
  },
  {
   "cell_type": "code",
   "execution_count": 7,
   "metadata": {},
   "outputs": [
    {
     "data": {
      "text/plain": [
       "((63, 8), (63, 15))"
      ]
     },
     "execution_count": 7,
     "metadata": {},
     "output_type": "execute_result"
    }
   ],
   "source": [
    "ch_fixtures.shape, ch_passing.shape"
   ]
  },
  {
   "cell_type": "code",
   "execution_count": 8,
   "metadata": {},
   "outputs": [
    {
     "data": {
      "text/html": [
       "<div>\n",
       "<style scoped>\n",
       "    .dataframe tbody tr th:only-of-type {\n",
       "        vertical-align: middle;\n",
       "    }\n",
       "\n",
       "    .dataframe tbody tr th {\n",
       "        vertical-align: top;\n",
       "    }\n",
       "\n",
       "    .dataframe thead th {\n",
       "        text-align: right;\n",
       "    }\n",
       "</style>\n",
       "<table border=\"1\" class=\"dataframe\">\n",
       "  <thead>\n",
       "    <tr style=\"text-align: right;\">\n",
       "      <th></th>\n",
       "      <th>Date</th>\n",
       "      <th>Comp</th>\n",
       "      <th>Result</th>\n",
       "      <th>GF</th>\n",
       "      <th>GA</th>\n",
       "      <th>Opponent</th>\n",
       "      <th>Poss</th>\n",
       "      <th>Formation</th>\n",
       "    </tr>\n",
       "  </thead>\n",
       "  <tbody>\n",
       "    <tr>\n",
       "      <th>0</th>\n",
       "      <td>2018-08-12</td>\n",
       "      <td>Supercopa de España</td>\n",
       "      <td>W</td>\n",
       "      <td>2</td>\n",
       "      <td>1</td>\n",
       "      <td>Sevilla</td>\n",
       "      <td>69</td>\n",
       "      <td>4-3-3</td>\n",
       "    </tr>\n",
       "  </tbody>\n",
       "</table>\n",
       "</div>"
      ],
      "text/plain": [
       "         Date                 Comp Result  GF  GA Opponent  Poss Formation\n",
       "0  2018-08-12  Supercopa de España      W   2   1  Sevilla    69     4-3-3"
      ]
     },
     "execution_count": 8,
     "metadata": {},
     "output_type": "execute_result"
    }
   ],
   "source": [
    "bar_fixtures.head(1)"
   ]
  },
  {
   "cell_type": "code",
   "execution_count": 9,
   "metadata": {},
   "outputs": [
    {
     "data": {
      "text/html": [
       "<div>\n",
       "<style scoped>\n",
       "    .dataframe tbody tr th:only-of-type {\n",
       "        vertical-align: middle;\n",
       "    }\n",
       "\n",
       "    .dataframe tbody tr th {\n",
       "        vertical-align: top;\n",
       "    }\n",
       "\n",
       "    .dataframe thead th {\n",
       "        text-align: right;\n",
       "    }\n",
       "</style>\n",
       "<table border=\"1\" class=\"dataframe\">\n",
       "  <thead>\n",
       "    <tr style=\"text-align: right;\">\n",
       "      <th></th>\n",
       "      <th>Date</th>\n",
       "      <th>Cmp</th>\n",
       "      <th>Att</th>\n",
       "      <th>Cmp%</th>\n",
       "      <th>TotDist</th>\n",
       "      <th>PrgDist</th>\n",
       "      <th>Cmp.1</th>\n",
       "      <th>Att.1</th>\n",
       "      <th>Cmp%.1</th>\n",
       "      <th>Cmp.2</th>\n",
       "      <th>Att.2</th>\n",
       "      <th>Cmp%.2</th>\n",
       "      <th>Cmp.3</th>\n",
       "      <th>Att.3</th>\n",
       "      <th>Cmp%.3</th>\n",
       "    </tr>\n",
       "  </thead>\n",
       "  <tbody>\n",
       "    <tr>\n",
       "      <th>0</th>\n",
       "      <td>2018-08-12</td>\n",
       "      <td>NaN</td>\n",
       "      <td>NaN</td>\n",
       "      <td>NaN</td>\n",
       "      <td>NaN</td>\n",
       "      <td>NaN</td>\n",
       "      <td>NaN</td>\n",
       "      <td>NaN</td>\n",
       "      <td>NaN</td>\n",
       "      <td>NaN</td>\n",
       "      <td>NaN</td>\n",
       "      <td>NaN</td>\n",
       "      <td>NaN</td>\n",
       "      <td>NaN</td>\n",
       "      <td>NaN</td>\n",
       "    </tr>\n",
       "  </tbody>\n",
       "</table>\n",
       "</div>"
      ],
      "text/plain": [
       "         Date  Cmp  Att  Cmp%  TotDist  PrgDist  Cmp.1  Att.1  Cmp%.1  Cmp.2  \\\n",
       "0  2018-08-12  NaN  NaN   NaN      NaN      NaN    NaN    NaN     NaN    NaN   \n",
       "\n",
       "   Att.2  Cmp%.2  Cmp.3  Att.3  Cmp%.3  \n",
       "0    NaN     NaN    NaN    NaN     NaN  "
      ]
     },
     "execution_count": 9,
     "metadata": {},
     "output_type": "execute_result"
    }
   ],
   "source": [
    "bar_passing.head(1)"
   ]
  },
  {
   "cell_type": "code",
   "execution_count": 10,
   "metadata": {},
   "outputs": [
    {
     "data": {
      "text/plain": [
       "(Date         0\n",
       " Comp         0\n",
       " Result       0\n",
       " GF           0\n",
       " GA           0\n",
       " Opponent     0\n",
       " Poss         0\n",
       " Formation    0\n",
       " dtype: int64,\n",
       " Date        0\n",
       " Cmp        10\n",
       " Att        10\n",
       " Cmp%       10\n",
       " TotDist    10\n",
       " PrgDist    10\n",
       " Cmp.1      10\n",
       " Att.1      10\n",
       " Cmp%.1     10\n",
       " Cmp.2      10\n",
       " Att.2      10\n",
       " Cmp%.2     10\n",
       " Cmp.3      10\n",
       " Att.3      10\n",
       " Cmp%.3     10\n",
       " dtype: int64)"
      ]
     },
     "execution_count": 10,
     "metadata": {},
     "output_type": "execute_result"
    }
   ],
   "source": [
    "bar_fixtures.isna().sum(), bar_passing.isna().sum()"
   ]
  },
  {
   "cell_type": "code",
   "execution_count": 11,
   "metadata": {},
   "outputs": [
    {
     "data": {
      "text/plain": [
       "(Date         0\n",
       " Comp         0\n",
       " Result       0\n",
       " GF           0\n",
       " GA           0\n",
       " Opponent     0\n",
       " Poss         0\n",
       " Formation    0\n",
       " dtype: int64,\n",
       " Date        0\n",
       " Cmp        10\n",
       " Att        10\n",
       " Cmp%       10\n",
       " TotDist    10\n",
       " PrgDist    10\n",
       " Cmp.1      10\n",
       " Att.1      10\n",
       " Cmp%.1     10\n",
       " Cmp.2      10\n",
       " Att.2      10\n",
       " Cmp%.2     10\n",
       " Cmp.3      10\n",
       " Att.3      10\n",
       " Cmp%.3     10\n",
       " dtype: int64)"
      ]
     },
     "execution_count": 11,
     "metadata": {},
     "output_type": "execute_result"
    }
   ],
   "source": [
    "ch_fixtures.isna().sum(), ch_passing.isna().sum()"
   ]
  },
  {
   "cell_type": "code",
   "execution_count": 12,
   "metadata": {},
   "outputs": [
    {
     "data": {
      "text/plain": [
       "Date          0\n",
       "Comp          0\n",
       "Result        0\n",
       "GF            0\n",
       "GA            0\n",
       "Opponent      0\n",
       "Poss          0\n",
       "Formation     0\n",
       "Cmp          10\n",
       "Att          10\n",
       "Cmp%         10\n",
       "TotDist      10\n",
       "PrgDist      10\n",
       "Cmp.1        10\n",
       "Att.1        10\n",
       "Cmp%.1       10\n",
       "Cmp.2        10\n",
       "Att.2        10\n",
       "Cmp%.2       10\n",
       "Cmp.3        10\n",
       "Att.3        10\n",
       "Cmp%.3       10\n",
       "dtype: int64"
      ]
     },
     "execution_count": 12,
     "metadata": {},
     "output_type": "execute_result"
    }
   ],
   "source": [
    "bar_merged = bar_fixtures.merge(bar_passing, on = 'Date')\n",
    "bar_merged.isna().sum()"
   ]
  },
  {
   "cell_type": "code",
   "execution_count": 13,
   "metadata": {},
   "outputs": [
    {
     "data": {
      "text/plain": [
       "Date          0\n",
       "Comp          0\n",
       "Result        0\n",
       "GF            0\n",
       "GA            0\n",
       "Opponent      0\n",
       "Poss          0\n",
       "Formation     0\n",
       "Cmp          10\n",
       "Att          10\n",
       "Cmp%         10\n",
       "TotDist      10\n",
       "PrgDist      10\n",
       "Cmp.1        10\n",
       "Att.1        10\n",
       "Cmp%.1       10\n",
       "Cmp.2        10\n",
       "Att.2        10\n",
       "Cmp%.2       10\n",
       "Cmp.3        10\n",
       "Att.3        10\n",
       "Cmp%.3       10\n",
       "dtype: int64"
      ]
     },
     "execution_count": 13,
     "metadata": {},
     "output_type": "execute_result"
    }
   ],
   "source": [
    "ch_merged = ch_fixtures.merge(ch_passing, on = 'Date')\n",
    "ch_merged.isna().sum()"
   ]
  },
  {
   "cell_type": "code",
   "execution_count": 14,
   "metadata": {},
   "outputs": [
    {
     "data": {
      "text/plain": [
       "((60, 22), (63, 22))"
      ]
     },
     "execution_count": 14,
     "metadata": {},
     "output_type": "execute_result"
    }
   ],
   "source": [
    "bar_merged.shape, ch_merged.shape"
   ]
  },
  {
   "cell_type": "markdown",
   "metadata": {},
   "source": [
    "# Chart 1"
   ]
  },
  {
   "cell_type": "code",
   "execution_count": 15,
   "metadata": {},
   "outputs": [
    {
     "data": {
      "text/html": [
       "<div>\n",
       "<style scoped>\n",
       "    .dataframe tbody tr th:only-of-type {\n",
       "        vertical-align: middle;\n",
       "    }\n",
       "\n",
       "    .dataframe tbody tr th {\n",
       "        vertical-align: top;\n",
       "    }\n",
       "\n",
       "    .dataframe thead th {\n",
       "        text-align: right;\n",
       "    }\n",
       "</style>\n",
       "<table border=\"1\" class=\"dataframe\">\n",
       "  <thead>\n",
       "    <tr style=\"text-align: right;\">\n",
       "      <th></th>\n",
       "      <th>game_idx</th>\n",
       "      <th>Poss</th>\n",
       "      <th>GF</th>\n",
       "      <th>Result</th>\n",
       "    </tr>\n",
       "  </thead>\n",
       "  <tbody>\n",
       "    <tr>\n",
       "      <th>0</th>\n",
       "      <td>0</td>\n",
       "      <td>69</td>\n",
       "      <td>2</td>\n",
       "      <td>1</td>\n",
       "    </tr>\n",
       "    <tr>\n",
       "      <th>1</th>\n",
       "      <td>1</td>\n",
       "      <td>79</td>\n",
       "      <td>3</td>\n",
       "      <td>1</td>\n",
       "    </tr>\n",
       "  </tbody>\n",
       "</table>\n",
       "</div>"
      ],
      "text/plain": [
       "   game_idx  Poss  GF  Result\n",
       "0         0    69   2       1\n",
       "1         1    79   3       1"
      ]
     },
     "execution_count": 15,
     "metadata": {},
     "output_type": "execute_result"
    }
   ],
   "source": [
    "bar_merged['game_idx'] = bar_merged.index\n",
    "bar_merged.Result = bar_merged.Result.apply(lambda x: 1 if x == 'W' else 0)\n",
    "first_chart_cols = ['game_idx', 'Poss', 'GF', 'Result']\n",
    "\n",
    "bar_merged_win = bar_merged[first_chart_cols].query('Result == \"W\"').reset_index(drop = True)\n",
    "bar_merged_los = bar_merged[first_chart_cols].query('Result != \"W\"').reset_index(drop = True)\n",
    "\n",
    "bar_merged[first_chart_cols].head(2)"
   ]
  },
  {
   "cell_type": "code",
   "execution_count": null,
   "metadata": {},
   "outputs": [],
   "source": []
  },
  {
   "cell_type": "code",
   "execution_count": 16,
   "metadata": {},
   "outputs": [
    {
     "data": {
      "text/html": [
       "<div>\n",
       "<style scoped>\n",
       "    .dataframe tbody tr th:only-of-type {\n",
       "        vertical-align: middle;\n",
       "    }\n",
       "\n",
       "    .dataframe tbody tr th {\n",
       "        vertical-align: top;\n",
       "    }\n",
       "\n",
       "    .dataframe thead th {\n",
       "        text-align: right;\n",
       "    }\n",
       "</style>\n",
       "<table border=\"1\" class=\"dataframe\">\n",
       "  <thead>\n",
       "    <tr style=\"text-align: right;\">\n",
       "      <th></th>\n",
       "      <th>game_idx</th>\n",
       "      <th>Poss</th>\n",
       "      <th>GF</th>\n",
       "      <th>Result</th>\n",
       "    </tr>\n",
       "  </thead>\n",
       "  <tbody>\n",
       "    <tr>\n",
       "      <th>0</th>\n",
       "      <td>0</td>\n",
       "      <td>47</td>\n",
       "      <td>0</td>\n",
       "      <td>0</td>\n",
       "    </tr>\n",
       "    <tr>\n",
       "      <th>1</th>\n",
       "      <td>1</td>\n",
       "      <td>63</td>\n",
       "      <td>3</td>\n",
       "      <td>1</td>\n",
       "    </tr>\n",
       "  </tbody>\n",
       "</table>\n",
       "</div>"
      ],
      "text/plain": [
       "   game_idx  Poss  GF  Result\n",
       "0         0    47   0       0\n",
       "1         1    63   3       1"
      ]
     },
     "execution_count": 16,
     "metadata": {},
     "output_type": "execute_result"
    }
   ],
   "source": [
    "ch_merged['game_idx'] = ch_merged.index\n",
    "first_chart_cols = ['game_idx', 'Poss', 'GF', 'Result']\n",
    "ch_merged.Result = ch_merged.Result.apply(lambda x: 1 if x == 'W' else 0)\n",
    "\n",
    "ch_merged_win = ch_merged[first_chart_cols].query('Result == \"W\"').reset_index(drop = True)\n",
    "ch_merged_los = ch_merged[first_chart_cols].query('Result != \"W\"').reset_index(drop = True)\n",
    "\n",
    "ch_merged[first_chart_cols].head(2)"
   ]
  },
  {
   "cell_type": "code",
   "execution_count": 18,
   "metadata": {},
   "outputs": [],
   "source": [
    "possession_json = {}\n",
    "possession_json['bar'] = [{\n",
    "    'x': int(bar_merged.game_idx.values[i]),\n",
    "    'y': int(bar_merged.Poss.values[i]),\n",
    "    'z': 0,\n",
    "    'Win': int(bar_merged.Result.values[i])\n",
    "} for i in range(bar_merged.shape[0])]\n",
    "\n",
    "possession_json['ch'] = [{\n",
    "    'x': int(ch_merged.game_idx.values[i]),\n",
    "    'y': int(ch_merged.Poss.values[i]),\n",
    "    'z': 0,\n",
    "    'Win': int(ch_merged.Result.values[i])\n",
    "} for i in range(ch_merged.shape[0])]\n",
    "\n",
    "with open('data/possession.json', 'w') as outfile:\n",
    "    json.dump(possession_json, outfile)"
   ]
  },
  {
   "cell_type": "code",
   "execution_count": 19,
   "metadata": {},
   "outputs": [],
   "source": [
    "# ch_json = {}\n",
    "# ch_json['games'] = [{\n",
    "#     'x': int(ch_merged.game_idx.values[i]),\n",
    "#     'y': int(ch_merged.Poss.values[i]),\n",
    "#     'z': int(ch_merged.GF.values[i]),\n",
    "#     'Win': int(ch_merged.Result.values[i])\n",
    "# } for i in range(ch_merged.shape[0])]\n",
    "\n",
    "# with open('data/processed/ch_json.txt', 'w') as outfile:\n",
    "#     json.dump(ch_json, outfile)"
   ]
  },
  {
   "cell_type": "code",
   "execution_count": 16,
   "metadata": {},
   "outputs": [],
   "source": [
    "# bar_json"
   ]
  },
  {
   "cell_type": "markdown",
   "metadata": {},
   "source": [
    "# Chart 2"
   ]
  },
  {
   "cell_type": "code",
   "execution_count": 33,
   "metadata": {},
   "outputs": [],
   "source": [
    "bar_value = pd.read_csv('data/raw/Barcelona - Value.csv')\n",
    "ch_value = pd.read_csv('data/raw/Chelsea - Value.csv')"
   ]
  },
  {
   "cell_type": "code",
   "execution_count": 34,
   "metadata": {},
   "outputs": [],
   "source": [
    "def parse_value(v):\n",
    "    value = v.replace('$', '')\n",
    "    multiplier = -1\n",
    "    if 'Th.' in v:\n",
    "        value = value.replace('Th.', '')\n",
    "        multiplier = 1000\n",
    "    elif 'm' in v:\n",
    "        value = value.replace('m', '')\n",
    "        multiplier = 1000000\n",
    "    return float(value) * multiplier\n",
    "\n",
    "def parse_name(name):\n",
    "    return name.split('\\n')[0].strip()\n",
    "\n",
    "def remove_tails(df):\n",
    "    top_11_df = df.iloc[:11].copy()\n",
    "    other_total = sum(df.iloc[11:].Value.values)\n",
    "    top_11_df = top_11_df.append({'Name': 'All Other', 'Birthday': '', 'Value': other_total}, ignore_index=True)\n",
    "    return top_11_df"
   ]
  },
  {
   "cell_type": "code",
   "execution_count": 35,
   "metadata": {},
   "outputs": [],
   "source": [
    "bar_value.Value = bar_value.Value.apply(parse_value)\n",
    "ch_value.Value = ch_value.Value.apply(parse_value)\n",
    "\n",
    "bar_value.Name = bar_value.Name.apply(parse_name)\n",
    "ch_value.Name = ch_value.Name.apply(parse_name)\n",
    "\n",
    "bar_value = bar_value.sort_values(by = 'Value', ascending = False).reset_index(drop = True)\n",
    "ch_value = ch_value.sort_values(by = 'Value', ascending = False).reset_index(drop = True)\n",
    "\n",
    "ch_value = remove_tails(ch_value)\n",
    "bar_value = remove_tails(bar_value)"
   ]
  },
  {
   "cell_type": "code",
   "execution_count": 36,
   "metadata": {},
   "outputs": [
    {
     "data": {
      "text/html": [
       "<div>\n",
       "<style scoped>\n",
       "    .dataframe tbody tr th:only-of-type {\n",
       "        vertical-align: middle;\n",
       "    }\n",
       "\n",
       "    .dataframe tbody tr th {\n",
       "        vertical-align: top;\n",
       "    }\n",
       "\n",
       "    .dataframe thead th {\n",
       "        text-align: right;\n",
       "    }\n",
       "</style>\n",
       "<table border=\"1\" class=\"dataframe\">\n",
       "  <thead>\n",
       "    <tr style=\"text-align: right;\">\n",
       "      <th></th>\n",
       "      <th>Name</th>\n",
       "      <th>Birthday</th>\n",
       "      <th>Value</th>\n",
       "    </tr>\n",
       "  </thead>\n",
       "  <tbody>\n",
       "    <tr>\n",
       "      <th>0</th>\n",
       "      <td>Eden Hazard</td>\n",
       "      <td>Jan 7, 1991 (27)</td>\n",
       "      <td>165000000.0</td>\n",
       "    </tr>\n",
       "    <tr>\n",
       "      <th>1</th>\n",
       "      <td>N'Golo Kanté</td>\n",
       "      <td>Mar 29, 1991 (27)</td>\n",
       "      <td>110000000.0</td>\n",
       "    </tr>\n",
       "    <tr>\n",
       "      <th>2</th>\n",
       "      <td>Jorginho</td>\n",
       "      <td>Dec 20, 1991 (26)</td>\n",
       "      <td>71500000.0</td>\n",
       "    </tr>\n",
       "    <tr>\n",
       "      <th>3</th>\n",
       "      <td>Kepa</td>\n",
       "      <td>Oct 3, 1994 (23)</td>\n",
       "      <td>66000000.0</td>\n",
       "    </tr>\n",
       "    <tr>\n",
       "      <th>4</th>\n",
       "      <td>Antonio Rüdiger</td>\n",
       "      <td>Mar 3, 1993 (25)</td>\n",
       "      <td>55000000.0</td>\n",
       "    </tr>\n",
       "  </tbody>\n",
       "</table>\n",
       "</div>"
      ],
      "text/plain": [
       "              Name           Birthday        Value\n",
       "0      Eden Hazard   Jan 7, 1991 (27)  165000000.0\n",
       "1     N'Golo Kanté  Mar 29, 1991 (27)  110000000.0\n",
       "2         Jorginho  Dec 20, 1991 (26)   71500000.0\n",
       "3             Kepa   Oct 3, 1994 (23)   66000000.0\n",
       "4  Antonio Rüdiger   Mar 3, 1993 (25)   55000000.0"
      ]
     },
     "execution_count": 36,
     "metadata": {},
     "output_type": "execute_result"
    }
   ],
   "source": [
    "ch_value.head()"
   ]
  },
  {
   "cell_type": "code",
   "execution_count": null,
   "metadata": {},
   "outputs": [],
   "source": []
  },
  {
   "cell_type": "code",
   "execution_count": null,
   "metadata": {},
   "outputs": [],
   "source": []
  },
  {
   "cell_type": "code",
   "execution_count": 37,
   "metadata": {},
   "outputs": [],
   "source": [
    "value_json = {}\n",
    "\n",
    "value_json['ch'] = [{\n",
    "    'name': (ch_value.Name.values[i]),\n",
    "    'y': int(ch_value.Value.values[i])\n",
    "} for i in range(ch_value.shape[0])]\n",
    "\n",
    "value_json['bar'] = [{\n",
    "    'name': (bar_value.Name.values[i]),\n",
    "    'y': int(bar_value.Value.values[i])\n",
    "} for i in range(bar_value.shape[0])]\n",
    "\n",
    "with open('data/value.json', 'w') as outfile:\n",
    "    json.dump(value_json, outfile)"
   ]
  },
  {
   "cell_type": "code",
   "execution_count": 201,
   "metadata": {},
   "outputs": [],
   "source": [
    "# bar_value_json = {}\n",
    "# bar_value_json['players'] = [{\n",
    "#     'name': (bar_value.Name.values[i]),\n",
    "#     'y': int(bar_value.Value.values[i])\n",
    "# } for i in range(bar_value.shape[0])]\n",
    "# with open('data/processed/bar_value.json', 'w') as outfile:\n",
    "#     json.dump(bar_value_json, outfile)"
   ]
  },
  {
   "cell_type": "code",
   "execution_count": null,
   "metadata": {},
   "outputs": [],
   "source": []
  },
  {
   "cell_type": "code",
   "execution_count": null,
   "metadata": {},
   "outputs": [],
   "source": []
  },
  {
   "cell_type": "markdown",
   "metadata": {},
   "source": [
    "# Radar Chart"
   ]
  },
  {
   "cell_type": "code",
   "execution_count": 50,
   "metadata": {},
   "outputs": [],
   "source": [
    "from functools import reduce"
   ]
  },
  {
   "cell_type": "code",
   "execution_count": 51,
   "metadata": {},
   "outputs": [],
   "source": [
    "def handle_date(d):\n",
    "    return str(pd.to_datetime(d))\n",
    "def merge_two_table(t1, t2):\n",
    "    return t1.merge(t2, on = 'Date', how = 'outer')\n",
    "\n",
    "ch_gk = pd.read_csv('data/raw/Chelsea - GK.csv')[['Date', 'Saves', 'Save%']]\n",
    "ch_def = pd.read_csv('data/raw/Chelsea - Defense.csv')[['Date', 'Tkl', 'TklW', 'Press', '%']]\n",
    "ch_shoot = pd.read_csv('data/raw/Chelsea - Shoot.csv')[['Date', 'Sh', 'SoT', 'SoT%', 'G/SoT']]\n",
    "ch_pass = pd.read_csv('data/raw/Chelsea - Passing.csv')[['Date', 'Att', 'Cmp%']]\n",
    "\n",
    "ch_gk.columns = ['Date', 'Saves', 'Saves_perc']\n",
    "ch_gk['Saves_perc'] = ch_gk['Saves_perc'].fillna(ch_gk.Saves_perc.mean())\n",
    "ch_def.columns = ['Date', 'Tk', 'Tk_perc', 'Press', 'Press_perc']\n",
    "ch_def['Tk_perc'] = ch_def.apply(lambda s: s.Tk_perc / s.Tk, axis = 1)\n",
    "ch_shoot.columns = ['Date', 'Sh', 'SoT', 'SoT_perc', 'Sh_perc']\n",
    "ch_pass.columns = ['Date', 'Pass', 'Pass_perc']\n",
    "\n",
    "ch_gk.Date = ch_gk.Date.apply(handle_date)\n",
    "ch_def.Date = ch_def.Date.apply(handle_date)\n",
    "ch_shoot.Date = ch_shoot.Date.apply(handle_date)\n",
    "ch_pass.Date = ch_pass.Date.apply(handle_date)"
   ]
  },
  {
   "cell_type": "code",
   "execution_count": 52,
   "metadata": {},
   "outputs": [
    {
     "name": "stdout",
     "output_type": "stream",
     "text": [
      "Date          0\n",
      "Saves         0\n",
      "Saves_perc    0\n",
      "dtype: int64\n"
     ]
    },
    {
     "data": {
      "text/html": [
       "<div>\n",
       "<style scoped>\n",
       "    .dataframe tbody tr th:only-of-type {\n",
       "        vertical-align: middle;\n",
       "    }\n",
       "\n",
       "    .dataframe tbody tr th {\n",
       "        vertical-align: top;\n",
       "    }\n",
       "\n",
       "    .dataframe thead th {\n",
       "        text-align: right;\n",
       "    }\n",
       "</style>\n",
       "<table border=\"1\" class=\"dataframe\">\n",
       "  <thead>\n",
       "    <tr style=\"text-align: right;\">\n",
       "      <th></th>\n",
       "      <th>Date</th>\n",
       "      <th>Saves</th>\n",
       "      <th>Saves_perc</th>\n",
       "    </tr>\n",
       "  </thead>\n",
       "  <tbody>\n",
       "    <tr>\n",
       "      <th>0</th>\n",
       "      <td>2018-08-05 00:00:00</td>\n",
       "      <td>6</td>\n",
       "      <td>0.75</td>\n",
       "    </tr>\n",
       "    <tr>\n",
       "      <th>1</th>\n",
       "      <td>2018-08-11 00:00:00</td>\n",
       "      <td>2</td>\n",
       "      <td>1.00</td>\n",
       "    </tr>\n",
       "  </tbody>\n",
       "</table>\n",
       "</div>"
      ],
      "text/plain": [
       "                  Date  Saves  Saves_perc\n",
       "0  2018-08-05 00:00:00      6        0.75\n",
       "1  2018-08-11 00:00:00      2        1.00"
      ]
     },
     "execution_count": 52,
     "metadata": {},
     "output_type": "execute_result"
    }
   ],
   "source": [
    "print(ch_gk.isna().sum())\n",
    "ch_gk.head(2)"
   ]
  },
  {
   "cell_type": "code",
   "execution_count": 53,
   "metadata": {},
   "outputs": [
    {
     "name": "stdout",
     "output_type": "stream",
     "text": [
      "Date           0\n",
      "Tk            10\n",
      "Tk_perc       10\n",
      "Press         10\n",
      "Press_perc    10\n",
      "dtype: int64\n"
     ]
    },
    {
     "data": {
      "text/html": [
       "<div>\n",
       "<style scoped>\n",
       "    .dataframe tbody tr th:only-of-type {\n",
       "        vertical-align: middle;\n",
       "    }\n",
       "\n",
       "    .dataframe tbody tr th {\n",
       "        vertical-align: top;\n",
       "    }\n",
       "\n",
       "    .dataframe thead th {\n",
       "        text-align: right;\n",
       "    }\n",
       "</style>\n",
       "<table border=\"1\" class=\"dataframe\">\n",
       "  <thead>\n",
       "    <tr style=\"text-align: right;\">\n",
       "      <th></th>\n",
       "      <th>Date</th>\n",
       "      <th>Tk</th>\n",
       "      <th>Tk_perc</th>\n",
       "      <th>Press</th>\n",
       "      <th>Press_perc</th>\n",
       "    </tr>\n",
       "  </thead>\n",
       "  <tbody>\n",
       "    <tr>\n",
       "      <th>0</th>\n",
       "      <td>2018-08-05 00:00:00</td>\n",
       "      <td>NaN</td>\n",
       "      <td>NaN</td>\n",
       "      <td>NaN</td>\n",
       "      <td>NaN</td>\n",
       "    </tr>\n",
       "    <tr>\n",
       "      <th>1</th>\n",
       "      <td>2018-08-11 00:00:00</td>\n",
       "      <td>13.0</td>\n",
       "      <td>0.538462</td>\n",
       "      <td>144.0</td>\n",
       "      <td>24.3</td>\n",
       "    </tr>\n",
       "  </tbody>\n",
       "</table>\n",
       "</div>"
      ],
      "text/plain": [
       "                  Date    Tk   Tk_perc  Press  Press_perc\n",
       "0  2018-08-05 00:00:00   NaN       NaN    NaN         NaN\n",
       "1  2018-08-11 00:00:00  13.0  0.538462  144.0        24.3"
      ]
     },
     "execution_count": 53,
     "metadata": {},
     "output_type": "execute_result"
    }
   ],
   "source": [
    "print(ch_def.isna().sum())\n",
    "ch_def.head(2)"
   ]
  },
  {
   "cell_type": "code",
   "execution_count": 54,
   "metadata": {},
   "outputs": [
    {
     "name": "stdout",
     "output_type": "stream",
     "text": [
      "Date        0\n",
      "Sh          0\n",
      "SoT         0\n",
      "SoT_perc    0\n",
      "Sh_perc     1\n",
      "dtype: int64\n"
     ]
    },
    {
     "data": {
      "text/html": [
       "<div>\n",
       "<style scoped>\n",
       "    .dataframe tbody tr th:only-of-type {\n",
       "        vertical-align: middle;\n",
       "    }\n",
       "\n",
       "    .dataframe tbody tr th {\n",
       "        vertical-align: top;\n",
       "    }\n",
       "\n",
       "    .dataframe thead th {\n",
       "        text-align: right;\n",
       "    }\n",
       "</style>\n",
       "<table border=\"1\" class=\"dataframe\">\n",
       "  <thead>\n",
       "    <tr style=\"text-align: right;\">\n",
       "      <th></th>\n",
       "      <th>Date</th>\n",
       "      <th>Sh</th>\n",
       "      <th>SoT</th>\n",
       "      <th>SoT_perc</th>\n",
       "      <th>Sh_perc</th>\n",
       "    </tr>\n",
       "  </thead>\n",
       "  <tbody>\n",
       "    <tr>\n",
       "      <th>0</th>\n",
       "      <td>2018-08-05 00:00:00</td>\n",
       "      <td>6</td>\n",
       "      <td>2</td>\n",
       "      <td>33.3</td>\n",
       "      <td>0.00</td>\n",
       "    </tr>\n",
       "    <tr>\n",
       "      <th>1</th>\n",
       "      <td>2018-08-11 00:00:00</td>\n",
       "      <td>12</td>\n",
       "      <td>3</td>\n",
       "      <td>25.0</td>\n",
       "      <td>0.67</td>\n",
       "    </tr>\n",
       "  </tbody>\n",
       "</table>\n",
       "</div>"
      ],
      "text/plain": [
       "                  Date  Sh  SoT  SoT_perc  Sh_perc\n",
       "0  2018-08-05 00:00:00   6    2      33.3     0.00\n",
       "1  2018-08-11 00:00:00  12    3      25.0     0.67"
      ]
     },
     "execution_count": 54,
     "metadata": {},
     "output_type": "execute_result"
    }
   ],
   "source": [
    "print(ch_shoot.isna().sum())\n",
    "ch_shoot.head(2)"
   ]
  },
  {
   "cell_type": "code",
   "execution_count": 55,
   "metadata": {},
   "outputs": [
    {
     "name": "stdout",
     "output_type": "stream",
     "text": [
      "Date          0\n",
      "Pass         10\n",
      "Pass_perc    10\n",
      "dtype: int64\n"
     ]
    },
    {
     "data": {
      "text/html": [
       "<div>\n",
       "<style scoped>\n",
       "    .dataframe tbody tr th:only-of-type {\n",
       "        vertical-align: middle;\n",
       "    }\n",
       "\n",
       "    .dataframe tbody tr th {\n",
       "        vertical-align: top;\n",
       "    }\n",
       "\n",
       "    .dataframe thead th {\n",
       "        text-align: right;\n",
       "    }\n",
       "</style>\n",
       "<table border=\"1\" class=\"dataframe\">\n",
       "  <thead>\n",
       "    <tr style=\"text-align: right;\">\n",
       "      <th></th>\n",
       "      <th>Date</th>\n",
       "      <th>Pass</th>\n",
       "      <th>Pass_perc</th>\n",
       "    </tr>\n",
       "  </thead>\n",
       "  <tbody>\n",
       "    <tr>\n",
       "      <th>0</th>\n",
       "      <td>2018-08-05 00:00:00</td>\n",
       "      <td>NaN</td>\n",
       "      <td>NaN</td>\n",
       "    </tr>\n",
       "    <tr>\n",
       "      <th>1</th>\n",
       "      <td>2018-08-11 00:00:00</td>\n",
       "      <td>682.0</td>\n",
       "      <td>87.5</td>\n",
       "    </tr>\n",
       "  </tbody>\n",
       "</table>\n",
       "</div>"
      ],
      "text/plain": [
       "                  Date   Pass  Pass_perc\n",
       "0  2018-08-05 00:00:00    NaN        NaN\n",
       "1  2018-08-11 00:00:00  682.0       87.5"
      ]
     },
     "execution_count": 55,
     "metadata": {},
     "output_type": "execute_result"
    }
   ],
   "source": [
    "print(ch_pass.isna().sum())\n",
    "ch_pass.head(2)"
   ]
  },
  {
   "cell_type": "code",
   "execution_count": null,
   "metadata": {},
   "outputs": [],
   "source": []
  },
  {
   "cell_type": "code",
   "execution_count": 56,
   "metadata": {},
   "outputs": [
    {
     "data": {
      "text/html": [
       "<div>\n",
       "<style scoped>\n",
       "    .dataframe tbody tr th:only-of-type {\n",
       "        vertical-align: middle;\n",
       "    }\n",
       "\n",
       "    .dataframe tbody tr th {\n",
       "        vertical-align: top;\n",
       "    }\n",
       "\n",
       "    .dataframe thead th {\n",
       "        text-align: right;\n",
       "    }\n",
       "</style>\n",
       "<table border=\"1\" class=\"dataframe\">\n",
       "  <thead>\n",
       "    <tr style=\"text-align: right;\">\n",
       "      <th></th>\n",
       "      <th>Date</th>\n",
       "      <th>Saves</th>\n",
       "      <th>Saves_perc</th>\n",
       "      <th>Tk</th>\n",
       "      <th>Tk_perc</th>\n",
       "      <th>Press</th>\n",
       "      <th>Press_perc</th>\n",
       "      <th>Sh</th>\n",
       "      <th>SoT</th>\n",
       "      <th>SoT_perc</th>\n",
       "      <th>Sh_perc</th>\n",
       "      <th>Pass</th>\n",
       "      <th>Pass_perc</th>\n",
       "    </tr>\n",
       "  </thead>\n",
       "  <tbody>\n",
       "    <tr>\n",
       "      <th>0</th>\n",
       "      <td>2018-08-05 00:00:00</td>\n",
       "      <td>6</td>\n",
       "      <td>0.75</td>\n",
       "      <td>NaN</td>\n",
       "      <td>NaN</td>\n",
       "      <td>NaN</td>\n",
       "      <td>NaN</td>\n",
       "      <td>6</td>\n",
       "      <td>2</td>\n",
       "      <td>33.3</td>\n",
       "      <td>0.00</td>\n",
       "      <td>NaN</td>\n",
       "      <td>NaN</td>\n",
       "    </tr>\n",
       "    <tr>\n",
       "      <th>1</th>\n",
       "      <td>2018-08-11 00:00:00</td>\n",
       "      <td>2</td>\n",
       "      <td>1.00</td>\n",
       "      <td>13.0</td>\n",
       "      <td>0.538462</td>\n",
       "      <td>144.0</td>\n",
       "      <td>24.3</td>\n",
       "      <td>12</td>\n",
       "      <td>3</td>\n",
       "      <td>25.0</td>\n",
       "      <td>0.67</td>\n",
       "      <td>682.0</td>\n",
       "      <td>87.5</td>\n",
       "    </tr>\n",
       "  </tbody>\n",
       "</table>\n",
       "</div>"
      ],
      "text/plain": [
       "                  Date  Saves  Saves_perc    Tk   Tk_perc  Press  Press_perc  \\\n",
       "0  2018-08-05 00:00:00      6        0.75   NaN       NaN    NaN         NaN   \n",
       "1  2018-08-11 00:00:00      2        1.00  13.0  0.538462  144.0        24.3   \n",
       "\n",
       "   Sh  SoT  SoT_perc  Sh_perc   Pass  Pass_perc  \n",
       "0   6    2      33.3     0.00    NaN        NaN  \n",
       "1  12    3      25.0     0.67  682.0       87.5  "
      ]
     },
     "execution_count": 56,
     "metadata": {},
     "output_type": "execute_result"
    }
   ],
   "source": [
    "ch_merged_for_radar = reduce(merge_two_table, [ch_gk, ch_def, ch_shoot, ch_pass])\n",
    "ch_merged_for_radar.head(2)"
   ]
  },
  {
   "cell_type": "code",
   "execution_count": 57,
   "metadata": {},
   "outputs": [
    {
     "data": {
      "text/plain": [
       "(63, 13)"
      ]
     },
     "execution_count": 57,
     "metadata": {},
     "output_type": "execute_result"
    }
   ],
   "source": [
    "ch_merged_for_radar.shape"
   ]
  },
  {
   "cell_type": "code",
   "execution_count": 58,
   "metadata": {},
   "outputs": [
    {
     "name": "stdout",
     "output_type": "stream",
     "text": [
      "Number of rows without NaN: 53\n"
     ]
    }
   ],
   "source": [
    "print('Number of rows without NaN:', ch_merged_for_radar.apply(lambda s: s.isna().sum() == 0, axis = 1).sum())"
   ]
  },
  {
   "cell_type": "code",
   "execution_count": 59,
   "metadata": {},
   "outputs": [],
   "source": [
    "ch_merged_for_radar = ch_merged_for_radar.dropna()\n",
    "# ch_merged_for_radar.to_csv('data/ch_merged_for_radar.csv')"
   ]
  },
  {
   "cell_type": "code",
   "execution_count": null,
   "metadata": {},
   "outputs": [],
   "source": []
  },
  {
   "cell_type": "code",
   "execution_count": 60,
   "metadata": {},
   "outputs": [],
   "source": [
    "# ch_json_radar = {}\n",
    "# ch_json_radar['games'] = [{\n",
    "#     'x': int(ch_merged_for_radar.game_idx.values[i]),\n",
    "#     'y': int(ch_merged.Poss.values[i]),\n",
    "#     'z': int(ch_merged.GF.values[i]),\n",
    "#     'Win': int(ch_merged.Result.values[i])\n",
    "# } for i in range(ch_merged.shape[0])]\n",
    "\n",
    "# with open('data/processed/ch_json_radar.txt', 'w') as outfile:\n",
    "#     json.dump(ch_json_radar, outfile)"
   ]
  },
  {
   "cell_type": "code",
   "execution_count": null,
   "metadata": {},
   "outputs": [],
   "source": []
  },
  {
   "cell_type": "code",
   "execution_count": 61,
   "metadata": {},
   "outputs": [],
   "source": [
    "# Barcelona"
   ]
  },
  {
   "cell_type": "code",
   "execution_count": null,
   "metadata": {},
   "outputs": [],
   "source": []
  },
  {
   "cell_type": "code",
   "execution_count": 62,
   "metadata": {},
   "outputs": [],
   "source": [
    "bar_gk = pd.read_csv('data/raw/Barcelona - GK.csv')[['Date', 'Saves', 'Save%']]\n",
    "bar_def = pd.read_csv('data/raw/Barcelona - Defense.csv')[['Date', 'Tkl', 'TklW', 'Press', '%']]\n",
    "bar_shoot = pd.read_csv('data/raw/Barcelona - Shoot.csv')[['Date', 'Sh', 'SoT', 'SoT%', 'G/SoT']]\n",
    "bar_pass = pd.read_csv('data/raw/Barcelona - Passing.csv')[['Date', 'Att', 'Cmp%']]\n",
    "\n",
    "bar_gk.columns = ['Date', 'Saves', 'Saves_perc']\n",
    "bar_gk['Saves_perc'] = bar_gk['Saves_perc'].fillna(bar_gk.Saves_perc.mean())\n",
    "bar_def.columns = ['Date', 'Tk', 'Tk_perc', 'Press', 'Press_perc']\n",
    "bar_def['Tk_perc'] = bar_def.apply(lambda s: s.Tk_perc / s.Tk, axis = 1)\n",
    "bar_shoot.columns = ['Date', 'Sh', 'SoT', 'SoT_perc', 'Sh_perc']\n",
    "bar_pass.columns = ['Date', 'Pass', 'Pass_perc']\n",
    "\n",
    "bar_gk.Date = bar_gk.Date.apply(handle_date)\n",
    "bar_def.Date = bar_def.Date.apply(handle_date)\n",
    "bar_shoot.Date = bar_shoot.Date.apply(handle_date)\n",
    "bar_pass.Date = bar_pass.Date.apply(handle_date)"
   ]
  },
  {
   "cell_type": "code",
   "execution_count": 73,
   "metadata": {},
   "outputs": [
    {
     "data": {
      "text/html": [
       "<div>\n",
       "<style scoped>\n",
       "    .dataframe tbody tr th:only-of-type {\n",
       "        vertical-align: middle;\n",
       "    }\n",
       "\n",
       "    .dataframe tbody tr th {\n",
       "        vertical-align: top;\n",
       "    }\n",
       "\n",
       "    .dataframe thead th {\n",
       "        text-align: right;\n",
       "    }\n",
       "</style>\n",
       "<table border=\"1\" class=\"dataframe\">\n",
       "  <thead>\n",
       "    <tr style=\"text-align: right;\">\n",
       "      <th></th>\n",
       "      <th>Date</th>\n",
       "      <th>Saves</th>\n",
       "      <th>Saves_perc</th>\n",
       "      <th>Tk</th>\n",
       "      <th>Tk_perc</th>\n",
       "      <th>Press</th>\n",
       "      <th>Press_perc</th>\n",
       "      <th>Sh</th>\n",
       "      <th>SoT</th>\n",
       "      <th>SoT_perc</th>\n",
       "      <th>Sh_perc</th>\n",
       "      <th>Pass</th>\n",
       "      <th>Pass_perc</th>\n",
       "    </tr>\n",
       "  </thead>\n",
       "  <tbody>\n",
       "    <tr>\n",
       "      <th>0</th>\n",
       "      <td>2018-08-12 00:00:00</td>\n",
       "      <td>3</td>\n",
       "      <td>0.6670</td>\n",
       "      <td>NaN</td>\n",
       "      <td>NaN</td>\n",
       "      <td>NaN</td>\n",
       "      <td>NaN</td>\n",
       "      <td>17</td>\n",
       "      <td>8</td>\n",
       "      <td>47.1</td>\n",
       "      <td>0.25</td>\n",
       "      <td>NaN</td>\n",
       "      <td>NaN</td>\n",
       "    </tr>\n",
       "    <tr>\n",
       "      <th>1</th>\n",
       "      <td>2018-08-18 00:00:00</td>\n",
       "      <td>0</td>\n",
       "      <td>0.7372</td>\n",
       "      <td>6.0</td>\n",
       "      <td>0.5</td>\n",
       "      <td>108.0</td>\n",
       "      <td>52.8</td>\n",
       "      <td>25</td>\n",
       "      <td>9</td>\n",
       "      <td>36.0</td>\n",
       "      <td>0.33</td>\n",
       "      <td>890.0</td>\n",
       "      <td>89.0</td>\n",
       "    </tr>\n",
       "  </tbody>\n",
       "</table>\n",
       "</div>"
      ],
      "text/plain": [
       "                  Date  Saves  Saves_perc   Tk  Tk_perc  Press  Press_perc  \\\n",
       "0  2018-08-12 00:00:00      3      0.6670  NaN      NaN    NaN         NaN   \n",
       "1  2018-08-18 00:00:00      0      0.7372  6.0      0.5  108.0        52.8   \n",
       "\n",
       "   Sh  SoT  SoT_perc  Sh_perc   Pass  Pass_perc  \n",
       "0  17    8      47.1     0.25    NaN        NaN  \n",
       "1  25    9      36.0     0.33  890.0       89.0  "
      ]
     },
     "execution_count": 73,
     "metadata": {},
     "output_type": "execute_result"
    }
   ],
   "source": [
    "bar_merged_for_radar = reduce(merge_two_table, [bar_gk, bar_def, bar_shoot, bar_pass])\n",
    "bar_merged_for_radar.head(2)"
   ]
  },
  {
   "cell_type": "code",
   "execution_count": 74,
   "metadata": {},
   "outputs": [
    {
     "name": "stdout",
     "output_type": "stream",
     "text": [
      "Number of rows without NaN: 50\n"
     ]
    }
   ],
   "source": [
    "print('Number of rows without NaN:', bar_merged_for_radar.apply(lambda s: s.isna().sum() == 0, axis = 1).sum())"
   ]
  },
  {
   "cell_type": "code",
   "execution_count": 75,
   "metadata": {},
   "outputs": [],
   "source": [
    "bar_merged_for_radar = bar_merged_for_radar.dropna()\n",
    "bar_merged_for_radar.to_csv('data/bar_merged_for_radar.csv')"
   ]
  },
  {
   "cell_type": "code",
   "execution_count": 78,
   "metadata": {},
   "outputs": [
    {
     "data": {
      "text/plain": [
       "Shoot On Target    34.42\n",
       "Pass Success       86.08\n",
       "Saves              67.99\n",
       "Tackle Success     66.00\n",
       "Press Success      29.77\n",
       "Shoot to Goal      31.70\n",
       "dtype: float64"
      ]
     },
     "metadata": {},
     "output_type": "display_data"
    },
    {
     "data": {
      "text/plain": [
       "Shoot On Target    43.96\n",
       "Pass Success       87.53\n",
       "Saves              74.87\n",
       "Tackle Success     66.17\n",
       "Press Success      28.95\n",
       "Shoot to Goal      31.94\n",
       "dtype: float64"
      ]
     },
     "metadata": {},
     "output_type": "display_data"
    }
   ],
   "source": [
    "def final_processing(df):\n",
    "    \n",
    "    mean_df = df.mean()\n",
    "    mean_df.Saves_perc = mean_df.Saves_perc * 100\n",
    "    mean_df.Tk_perc = mean_df.Tk_perc * 100\n",
    "    mean_df.Sh_perc = mean_df.Sh_perc * 100\n",
    "    mean_df = mean_df.round(2)\n",
    "    summ_stats_perc = mean_df[['SoT_perc', 'Pass_perc', 'Saves_perc', 'Tk_perc', 'Press_perc', 'Sh_perc']]\n",
    "    summ_stats_perc.index = ['Shoot On Target', 'Pass Success', 'Saves', 'Tackle Success', 'Press Success', 'Shoot to Goal']\n",
    "    \n",
    "    summ_stats = mean_df[['SoT', 'Pass', 'Saves', 'Tk', 'Press', 'Sh']]\n",
    "    return {\n",
    "        'summ_stats': [list(summ_stats.values), list(summ_stats.keys())], \n",
    "        'summ_stats_perc': [list(summ_stats_perc.values), list(summ_stats_perc.keys())],\n",
    "    }\n",
    "ch_radar_dict = final_processing(ch_merged_for_radar)\n",
    "bar_radar_dict = final_processing(bar_merged_for_radar)"
   ]
  },
  {
   "cell_type": "code",
   "execution_count": 79,
   "metadata": {},
   "outputs": [],
   "source": [
    "radar_json = {}\n",
    "radar_json['ch'] = ch_radar_dict\n",
    "radar_json['bar'] = bar_radar_dict\n",
    "\n",
    "with open('data/radar.json', 'w') as outfile:\n",
    "    json.dump(radar_json, outfile)"
   ]
  },
  {
   "cell_type": "code",
   "execution_count": 68,
   "metadata": {},
   "outputs": [
    {
     "data": {
      "text/plain": [
       "{'summ_stats': [[5.26, 697.72, 1.89, 15.68, 162.51, 15.91],\n",
       "  ['SoT', 'Pass', 'Saves', 'Tk', 'Press', 'Sh']],\n",
       " 'summ_stats_perc': [[34.42, 86.08, 67.99, 66.0, 29.77, 31.7],\n",
       "  ['SoT_perc', 'Pass_perc', 'Saves_perc', 'Tk_perc', 'Press_perc', 'Sh_perc']]}"
      ]
     },
     "execution_count": 68,
     "metadata": {},
     "output_type": "execute_result"
    }
   ],
   "source": [
    "ch_radar_dict"
   ]
  },
  {
   "cell_type": "code",
   "execution_count": 69,
   "metadata": {},
   "outputs": [
    {
     "data": {
      "text/plain": [
       "{'ch': {'summ_stats': [[5.26, 697.72, 1.89, 15.68, 162.51, 15.91],\n",
       "   ['SoT', 'Pass', 'Saves', 'Tk', 'Press', 'Sh']],\n",
       "  'summ_stats_perc': [[34.42, 86.08, 67.99, 66.0, 29.77, 31.7],\n",
       "   ['SoT_perc',\n",
       "    'Pass_perc',\n",
       "    'Saves_perc',\n",
       "    'Tk_perc',\n",
       "    'Press_perc',\n",
       "    'Sh_perc']]},\n",
       " 'bar': {'summ_stats': [[6.46, 705.1, 2.6, 15.3, 166.16, 15.06],\n",
       "   ['SoT', 'Pass', 'Saves', 'Tk', 'Press', 'Sh']],\n",
       "  'summ_stats_perc': [[43.96, 87.53, 74.87, 66.17, 28.95, 31.94],\n",
       "   ['SoT_perc',\n",
       "    'Pass_perc',\n",
       "    'Saves_perc',\n",
       "    'Tk_perc',\n",
       "    'Press_perc',\n",
       "    'Sh_perc']]}}"
      ]
     },
     "execution_count": 69,
     "metadata": {},
     "output_type": "execute_result"
    }
   ],
   "source": [
    "radar_json"
   ]
  },
  {
   "cell_type": "code",
   "execution_count": 182,
   "metadata": {},
   "outputs": [],
   "source": [
    "# def calc_standarlized_score(raw_score, sequence):\n",
    "    "
   ]
  },
  {
   "cell_type": "code",
   "execution_count": 181,
   "metadata": {},
   "outputs": [
    {
     "name": "stdout",
     "output_type": "stream",
     "text": [
      "67 50\n",
      "45 45\n",
      "62 40\n",
      "60 60\n",
      "59 55\n",
      "52 52\n"
     ]
    }
   ],
   "source": [
    "keys = ['SoT', 'Pass', 'Saves', 'Tk', 'Press', 'Sh']\n",
    "for i in range(6):\n",
    "    ch_stats = radar_json['ch']['summ_stats'][0][i]\n",
    "    bar_stats = radar_json['bar']['summ_stats'][0][i]\n",
    "    all_stats = np.array(list(bar_merged_for_radar[keys[i]].values) + list(ch_merged_for_radar[keys[i]].values))\n",
    "    bar_score = sum(all_stats < bar_stats)\n",
    "    ch_score = sum(all_stats < ch_stats)\n",
    "    print(bar_score, ch_score)"
   ]
  },
  {
   "cell_type": "code",
   "execution_count": 180,
   "metadata": {},
   "outputs": [
    {
     "data": {
      "text/plain": [
       "103"
      ]
     },
     "execution_count": 180,
     "metadata": {},
     "output_type": "execute_result"
    }
   ],
   "source": [
    "len(all_stats)"
   ]
  },
  {
   "cell_type": "code",
   "execution_count": null,
   "metadata": {},
   "outputs": [],
   "source": []
  },
  {
   "cell_type": "code",
   "execution_count": null,
   "metadata": {},
   "outputs": [],
   "source": []
  },
  {
   "cell_type": "code",
   "execution_count": null,
   "metadata": {},
   "outputs": [],
   "source": []
  },
  {
   "cell_type": "code",
   "execution_count": null,
   "metadata": {},
   "outputs": [],
   "source": []
  },
  {
   "cell_type": "markdown",
   "metadata": {},
   "source": [
    "# Parliment chart"
   ]
  },
  {
   "cell_type": "code",
   "execution_count": 38,
   "metadata": {},
   "outputs": [],
   "source": [
    "parli_json = {}"
   ]
  },
  {
   "cell_type": "code",
   "execution_count": 46,
   "metadata": {},
   "outputs": [],
   "source": [
    "bar_parliment_data = [\n",
    "    ['Messi', 36],\n",
    "    ['Suarez', 21],\n",
    "    ['Dembele', 8],\n",
    "    ['Coutinho', 5],\n",
    "    ['Pique', 4],\n",
    "    ['Others', 14]\n",
    "]\n",
    "\n",
    "ch_parliment_data = [\n",
    "    ['Hazard', 16],\n",
    "    ['Pedro', 8],\n",
    "    ['Loftus-Cheek', 6],\n",
    "    ['Higuain', 5],\n",
    "    ['Morata', 5],\n",
    "    ['Others', 21]\n",
    "]"
   ]
  },
  {
   "cell_type": "code",
   "execution_count": 47,
   "metadata": {},
   "outputs": [],
   "source": [
    "parli_json['bar'] = bar_parliment_data\n",
    "parli_json['ch'] = ch_parliment_data"
   ]
  },
  {
   "cell_type": "code",
   "execution_count": 48,
   "metadata": {},
   "outputs": [],
   "source": [
    "with open('data/parliment.json', 'w') as outfile:\n",
    "    json.dump(parli_json, outfile)"
   ]
  },
  {
   "cell_type": "code",
   "execution_count": null,
   "metadata": {},
   "outputs": [],
   "source": []
  },
  {
   "cell_type": "markdown",
   "metadata": {},
   "source": [
    "# Heatmap"
   ]
  },
  {
   "cell_type": "code",
   "execution_count": 80,
   "metadata": {},
   "outputs": [],
   "source": [
    "heatmap_json = {}"
   ]
  },
  {
   "cell_type": "code",
   "execution_count": 87,
   "metadata": {},
   "outputs": [],
   "source": [
    "bar_heatmap_data = [\n",
    "    ['Lionel Messi', 13],\n",
    "    ['Jordi Alba', 8],\n",
    "    ['Arturo Vidal', 7],\n",
    "    ['Sergi Roberto', 7],\n",
    "    ['Luis Suárez', 6],\n",
    "    ['Ivan Rakitic', 5],\n",
    "    ['Ousmane Dembélé', 5],\n",
    "    ['Others', 10]\n",
    "]\n",
    "tmp_lst = []\n",
    "for pair in bar_heatmap_data:\n",
    "    tmp_lst.append({'name': pair[0], 'value': pair[1], 'colorValue': pair[1]})\n",
    "bar_heatmap_data = tmp_lst\n",
    "\n",
    "ch_heatmap_data = [\n",
    "    ['Eden Hazard', 15],\n",
    "    ['Willian', 6],\n",
    "    ['César Azpilicueta', 5],\n",
    "    ['Ross Barkley', 5],\n",
    "    ['Marcos Alonso', 4],\n",
    "    [\"N'Golo Kanté\", 4],\n",
    "    ['Olivier Giroud', 4],\n",
    "    ['Others', 9]\n",
    "]\n",
    "tmp_lst = []\n",
    "for pair in ch_heatmap_data:\n",
    "    tmp_lst.append({'name': pair[0], 'value': pair[1], 'colorValue': pair[1]})\n",
    "ch_heatmap_data = tmp_lst"
   ]
  },
  {
   "cell_type": "code",
   "execution_count": 88,
   "metadata": {},
   "outputs": [],
   "source": [
    "parli_json['bar'] = bar_heatmap_data\n",
    "parli_json['ch'] = ch_heatmap_data"
   ]
  },
  {
   "cell_type": "code",
   "execution_count": 89,
   "metadata": {},
   "outputs": [],
   "source": [
    "with open('data/heatmap.json', 'w') as outfile:\n",
    "    json.dump(parli_json, outfile)"
   ]
  },
  {
   "cell_type": "code",
   "execution_count": null,
   "metadata": {},
   "outputs": [],
   "source": []
  }
 ],
 "metadata": {
  "kernelspec": {
   "display_name": "Python 3",
   "language": "python",
   "name": "python3"
  },
  "language_info": {
   "codemirror_mode": {
    "name": "ipython",
    "version": 3
   },
   "file_extension": ".py",
   "mimetype": "text/x-python",
   "name": "python",
   "nbconvert_exporter": "python",
   "pygments_lexer": "ipython3",
   "version": "3.8.3"
  },
  "toc": {
   "base_numbering": 1,
   "nav_menu": {},
   "number_sections": true,
   "sideBar": true,
   "skip_h1_title": false,
   "title_cell": "Table of Contents",
   "title_sidebar": "Contents",
   "toc_cell": false,
   "toc_position": {},
   "toc_section_display": true,
   "toc_window_display": false
  }
 },
 "nbformat": 4,
 "nbformat_minor": 4
}
